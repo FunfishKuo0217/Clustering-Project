{
 "cells": [
  {
   "cell_type": "markdown",
   "metadata": {},
   "source": [
    "# Social Media Analysis HW2"
   ]
  },
  {
   "cell_type": "markdown",
   "metadata": {},
   "source": [
    "b06207013 心理五 郭芳妤"
   ]
  },
  {
   "cell_type": "code",
   "execution_count": 1,
   "metadata": {},
   "outputs": [],
   "source": [
    "from numpy import linalg as LA\n",
    "import random\n",
    "import pandas as pd\n",
    "import numpy as np\n",
    "\n",
    "data = pd.read_csv('adjacent_matrix-1.csv')"
   ]
  },
  {
   "cell_type": "code",
   "execution_count": 3,
   "metadata": {},
   "outputs": [],
   "source": [
    "# map the name node and index\n",
    "LEN = len(data)\n",
    "name_map = []\n",
    "for i in range(LEN):\n",
    "    name_map.append(data['Unnamed: 0'][i])\n",
    "\n",
    "\"\"\"build the diagoanl, Laplacian matrix D-mat, L-mat\"\"\"\n",
    "\n",
    "A_mat = np.zeros((LEN, LEN))\n",
    "D_mat = np.zeros((LEN, LEN))\n",
    "L_mat = np.zeros((LEN, LEN))\n",
    "\n",
    "for i in range(LEN):\n",
    "    for j in range(LEN):\n",
    "        A_mat[i, j] = data[str(name_map[j])][i]\n",
    "    \n",
    "for i in range(LEN):\n",
    "    D_mat[i, i] = sum(A_mat[i])\n",
    "    \n",
    "for i in range(LEN):\n",
    "    for j in range(LEN):\n",
    "        L_mat[i, j] = D_mat[i, j] - A_mat[i, j]"
   ]
  },
  {
   "cell_type": "markdown",
   "metadata": {},
   "source": [
    "### Find top 3 Eigenvectors"
   ]
  },
  {
   "cell_type": "code",
   "execution_count": 94,
   "metadata": {},
   "outputs": [],
   "source": [
    "# 計算前 3(k) 小的 eigenvectors\n",
    "k = 3\n",
    "eigenvalues, eigenvectors = np.linalg.eig(L_mat)\n",
    "\n",
    "eigenvalues = np.real(eigenvalues)\n",
    "eigenvectors = np.real(eigenvectors)\n",
    "\n",
    "# 由小到大排列，並回傳其 index\n",
    "order = np.argsort(eigenvalues)\n",
    "eigenvalues = eigenvalues[order]\n",
    "embedding_size = 3 # k value\n",
    "v_0 = eigenvectors[:, order[0]]\n",
    "\n",
    "# v: 的每一個row = 每一個角色的 representation vector\n",
    "v = eigenvectors[:, order[0:(embedding_size)]]"
   ]
  },
  {
   "cell_type": "code",
   "execution_count": 148,
   "metadata": {},
   "outputs": [],
   "source": [
    "v_top3 = []\n",
    "for i in range(3):\n",
    "    v_top3.append(eigenvectors[:, order[i]])\n",
    "\n",
    "v_top3 = pd.DataFrame(v_top3)\n",
    "v_top3.to_csv(\"eigen.csv\", header = False, index = False)"
   ]
  },
  {
   "cell_type": "markdown",
   "metadata": {},
   "source": [
    "### K-means function"
   ]
  },
  {
   "cell_type": "code",
   "execution_count": 128,
   "metadata": {},
   "outputs": [],
   "source": [
    "def Kmeans(X_hat, k, maxiters = 100, tol = 1e-5):\n",
    "    N = len(X_hat) # node數(should be 69)\n",
    "    n = len(X_hat[1]) # dimension(should be 3 = k)\n",
    "    dist = np.zeros(N)\n",
    "    reps = [np.zeros(n) for j in range(k)]\n",
    "    \n",
    "    # 隨機選擇初始值\n",
    "    ASS = [random.randrange(3) for i in range(69)]\n",
    "    Jprevious = float(\"inf\") #用來作為 stopping condition\n",
    "    \n",
    "    for ITER in range(maxiters):\n",
    "        for j in range(k):\n",
    "            group = [i for i in range(N) if ASS[i] == j]\n",
    "            reps[j] = sum(X_hat[group]/len(group))\n",
    "        \n",
    "        for i in range(N):\n",
    "            MIN_dist = float(\"inf\")\n",
    "            for j in range(k):\n",
    "                if LA.norm(X_hat[i] - reps[j]) < MIN_dist:\n",
    "                    ASS[i] = j\n",
    "                    MIN_dist = LA.norm(X_hat[i] - reps[j])\n",
    "                    dist[i] = MIN_dist\n",
    "            # (dist[i], ASS[i]) = min([LA.norm(X_hat[i] - reps[j]) for j in range(k)])\n",
    "        \n",
    "        J = pow(LA.norm(dist), 2)/N\n",
    "        print(\"Iteration =\", ITER,\": Jclust = \", J)\n",
    "        if ITER > 1 and abs(J - Jprevious) < tol*J:\n",
    "            return ASS, reps\n",
    "        Jprevious = J"
   ]
  },
  {
   "cell_type": "code",
   "execution_count": 154,
   "metadata": {},
   "outputs": [
    {
     "name": "stdout",
     "output_type": "stream",
     "text": [
      "Iteration = 0 : Jclust =  0.026468466849872585\n",
      "Iteration = 1 : Jclust =  0.016152278494252867\n",
      "Iteration = 2 : Jclust =  0.013941637750953022\n",
      "Iteration = 3 : Jclust =  0.013114590346018902\n",
      "Iteration = 4 : Jclust =  0.01293563206740359\n",
      "Iteration = 5 : Jclust =  0.01293563206740359\n"
     ]
    }
   ],
   "source": [
    "ASS, reps = Kmeans(v, 3)"
   ]
  },
  {
   "cell_type": "code",
   "execution_count": 161,
   "metadata": {},
   "outputs": [],
   "source": [
    "result = []\n",
    "result.append(ASS)\n",
    "result_DF = pd.DataFrame(result)\n",
    "result_DF.to_csv(\"result.csv\", header = False, index = False)"
   ]
  },
  {
   "cell_type": "code",
   "execution_count": 166,
   "metadata": {},
   "outputs": [
    {
     "name": "stdout",
     "output_type": "stream",
     "text": [
      "[1, 2, 2, 1, 1, 1, 1, 1, 1, 1, 1, 1, 1, 1, 1, 1, 1, 1, 1, 1, 1, 1, 1, 1, 1, 1, 1, 1, 1, 1, 1, 1, 1, 1, 1, 1, 1, 1, 1, 1, 1, 2, 2, 2, 1, 2, 2, 2, 1, 1, 2, 2, 2, 2, 2, 2, 2, 0, 0, 2, 0, 2, 2, 2, 2, 0, 2, 2, 2]\n"
     ]
    }
   ],
   "source": [
    "print(ASS)"
   ]
  },
  {
   "cell_type": "markdown",
   "metadata": {},
   "source": [
    "# Result"
   ]
  },
  {
   "cell_type": "code",
   "execution_count": 167,
   "metadata": {},
   "outputs": [
    {
     "data": {
      "text/plain": [
       "Text(0.5, 1.0, 'Clustering Result')"
      ]
     },
     "execution_count": 167,
     "metadata": {},
     "output_type": "execute_result"
    },
    {
     "data": {
      "image/png": "[encoded data removed]",
      "text/plain": [
       "<Figure size 432x288 with 1 Axes>"
      ]
     },
     "metadata": {},
     "output_type": "display_data"
    }
   ],
   "source": [
    "import matplotlib.pyplot as plt\n",
    "from matplotlib.image import imread\n",
    "import seaborn as sns\n",
    "from sklearn.cluster import KMeans, SpectralClustering\n",
    "from sklearn.preprocessing import StandardScaler\n",
    "from sklearn.metrics import silhouette_samples, silhouette_score\n",
    "\n",
    "%matplotlib inline\n",
    "sns.set_context('notebook')\n",
    "plt.style.use('fivethirtyeight')\n",
    "from warnings import filterwarnings\n",
    "filterwarnings('ignore')\n",
    "\n",
    "colormap = ['orange', 'blue', 'green']\n",
    "for i in range(len(ASS)):\n",
    "    feature = v[i,:][1:]\n",
    "    label = int(ASS[i])\n",
    "    plt.scatter(feature[0], feature[1], c = colormap[label])\n",
    "\n",
    "plt.scatter(centroids[:, 1], centroids[:, 2], c = 'red')\n",
    "plt.title('Clustering Result')"
   ]
  },
  {
   "cell_type": "code",
   "execution_count": null,
   "metadata": {},
   "outputs": [],
   "source": []
  }
 ],
 "metadata": {
  "kernelspec": {
   "display_name": "Python 3",
   "language": "python",
   "name": "python3"
  },
  "language_info": {
   "codemirror_mode": {
    "name": "ipython",
    "version": 3
   },
   "file_extension": ".py",
   "mimetype": "text/x-python",
   "name": "python",
   "nbconvert_exporter": "python",
   "pygments_lexer": "ipython3",
   "version": "3.7.6"
  }
 },
 "nbformat": 4,
 "nbformat_minor": 4
}
